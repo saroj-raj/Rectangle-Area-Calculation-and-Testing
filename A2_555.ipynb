{
  "nbformat": 4,
  "nbformat_minor": 0,
  "metadata": {
    "colab": {
      "provenance": []
    },
    "kernelspec": {
      "name": "python3",
      "display_name": "Python 3"
    },
    "language_info": {
      "name": "python"
    }
  },
  "cells": [
    {
      "cell_type": "code",
      "execution_count": 1,
      "metadata": {
        "colab": {
          "base_uri": "https://localhost:8080/",
          "height": 253
        },
        "id": "yHenKuxdmFW2",
        "outputId": "251046de-1321-4595-c678-a91f14246474"
      },
      "outputs": [
        {
          "output_type": "stream",
          "name": "stdout",
          "text": [
            "Requirement already satisfied: unittest2 in /usr/local/lib/python3.10/dist-packages (1.1.0)\n",
            "Collecting argparse (from unittest2)\n",
            "  Using cached argparse-1.4.0-py2.py3-none-any.whl (23 kB)\n",
            "Requirement already satisfied: six>=1.4 in /usr/local/lib/python3.10/dist-packages (from unittest2) (1.16.0)\n",
            "Requirement already satisfied: traceback2 in /usr/local/lib/python3.10/dist-packages (from unittest2) (1.4.0)\n",
            "Requirement already satisfied: linecache2 in /usr/local/lib/python3.10/dist-packages (from traceback2->unittest2) (1.0.0)\n",
            "Installing collected packages: argparse\n",
            "Successfully installed argparse-1.4.0\n"
          ]
        },
        {
          "output_type": "display_data",
          "data": {
            "application/vnd.colab-display-data+json": {
              "pip_warning": {
                "packages": [
                  "argparse"
                ]
              },
              "id": "5d8b0c5975f4431cb7fd37b766eaac86"
            }
          },
          "metadata": {}
        }
      ],
      "source": [
        "!pip install unittest2"
      ]
    },
    {
      "cell_type": "code",
      "source": [
        "import unittest\n",
        "\n",
        "class TestRectangleAreaCalculation(unittest.TestCase):\n",
        "    def test_valid_input(self):\n",
        "        # Test Case 1: Valid Input\n",
        "        length = 5\n",
        "        width = 4\n",
        "        expected_area = 20\n",
        "        calculated_area = length * width\n",
        "        self.assertEqual(calculated_area, expected_area)\n",
        "        print(\"Test Valid Input: Passed\")\n",
        "\n",
        "    def test_zero_length_or_width(self):\n",
        "        # Test Case 2: Zero Length or Width\n",
        "        length = 0\n",
        "        width = 8\n",
        "        expected_area = 0\n",
        "        calculated_area = length * width\n",
        "        self.assertEqual(calculated_area, expected_area)\n",
        "        print(\"Test Zero Length or Width: Passed\")\n",
        "\n",
        "    def test_negative_length_or_width(self):\n",
        "        # Test Case 3: Negative Length or Width\n",
        "        length = -3\n",
        "        width = 6\n",
        "        with self.assertRaises(ValueError):\n",
        "            if length <= 0 or width <= 0:\n",
        "                raise ValueError(\"Length and Width must be positive numbers\")\n",
        "        print(\"Test Negative Length or Width: Passed\")\n",
        "\n",
        "# Run the tests\n",
        "if __name__ == '__main__':\n",
        "    unittest.main(argv=[''], exit=False)\n"
      ],
      "metadata": {
        "colab": {
          "base_uri": "https://localhost:8080/"
        },
        "id": "la-DgWqpmma2",
        "outputId": "9bff816b-2a29-415a-aecf-199416d30a3b"
      },
      "execution_count": 4,
      "outputs": [
        {
          "output_type": "stream",
          "name": "stderr",
          "text": [
            "...\n",
            "----------------------------------------------------------------------\n",
            "Ran 3 tests in 0.013s\n",
            "\n",
            "OK\n"
          ]
        },
        {
          "output_type": "stream",
          "name": "stdout",
          "text": [
            "Test Negative Length or Width: Passed\n",
            "Test Valid Input: Passed\n",
            "Test Zero Length or Width: Passed\n"
          ]
        }
      ]
    },
    {
      "cell_type": "code",
      "source": [
        "def calculate_rectangle_area():\n",
        "    \"\"\"\n",
        "    Calculate the area of a rectangle given its length and width provided by the user.\n",
        "\n",
        "    Returns:\n",
        "    - float: The calculated area of the rectangle.\n",
        "    \"\"\"\n",
        "    length = float(input(\"Enter the length of the rectangle: \"))\n",
        "    width = float(input(\"Enter the width of the rectangle: \"))\n",
        "\n",
        "    if length <= 0 or width <= 0:\n",
        "        raise ValueError(\"Length and Width must be positive numbers\")\n",
        "\n",
        "    area = length * width\n",
        "    print(f\"The area of the rectangle with length {length} and width {width} is {area}\")\n",
        "    return area\n",
        "\n",
        "# Example usage\n",
        "calculate_rectangle_area()\n"
      ],
      "metadata": {
        "colab": {
          "base_uri": "https://localhost:8080/"
        },
        "id": "EDarnk3Sog4z",
        "outputId": "df91fb46-fdb7-4803-b4b1-2fc807bf1316"
      },
      "execution_count": 10,
      "outputs": [
        {
          "output_type": "stream",
          "name": "stdout",
          "text": [
            "Enter the length of the rectangle: 5\n",
            "Enter the width of the rectangle: 4\n",
            "The area of the rectangle with length 5.0 and width 4.0 is 20.0\n"
          ]
        },
        {
          "output_type": "execute_result",
          "data": {
            "text/plain": [
              "20.0"
            ]
          },
          "metadata": {},
          "execution_count": 10
        }
      ]
    },
    {
      "cell_type": "code",
      "source": [
        "import unittest\n",
        "\n",
        "def calculate_rectangle_area(length, width):\n",
        "    \"\"\"\n",
        "    Calculate the area of a rectangle given its length and width.\n",
        "\n",
        "    Args:\n",
        "    - length (float): The length of the rectangle.\n",
        "    - width (float): The width of the rectangle.\n",
        "\n",
        "    Returns:\n",
        "    - float: The calculated area of the rectangle.\n",
        "    \"\"\"\n",
        "    if length <= 0 or width <= 0:\n",
        "        raise ValueError(\"Length and Width must be positive numbers\")\n",
        "    return length * width\n",
        "\n",
        "class TestRectangleAreaCalculation(unittest.TestCase):\n",
        "    def test_valid_input(self):\n",
        "        # Test Case 1: Valid Input\n",
        "        length = 5\n",
        "        width = 4\n",
        "        expected_area = 20\n",
        "        calculated_area = calculate_rectangle_area(length, width)\n",
        "        self.assertEqual(calculated_area, expected_area)\n",
        "        print(\"Test Valid Input: Passed. Calculated area:\", calculated_area)\n",
        "\n",
        "    def test_zero_length_or_width(self):\n",
        "        # Test Case 2: Zero Length or Width\n",
        "        length = 0\n",
        "        width = 8\n",
        "        expected_area = 0\n",
        "        calculated_area = calculate_rectangle_area(length, width)\n",
        "        self.assertEqual(calculated_area, expected_area)\n",
        "        print(\"Test Zero Length or Width: Passed. Calculated area:\", calculated_area)\n",
        "\n",
        "    def test_negative_length_or_width(self):\n",
        "        # Test Case 3: Negative Length or Width\n",
        "        length = -3\n",
        "        width = 6\n",
        "        with self.assertRaises(ValueError):\n",
        "            calculate_rectangle_area(length, width)\n",
        "        print(\"Test Negative Length or Width: Passed. Exception raised as expected.\")\n",
        "\n",
        "# Run the tests\n",
        "if __name__ == '__main__':\n",
        "    unittest.main(argv=[''], exit=False)\n"
      ],
      "metadata": {
        "colab": {
          "base_uri": "https://localhost:8080/"
        },
        "id": "asoS5sj8qEfP",
        "outputId": "958c093c-2512-480f-8056-55c4fa9d6352"
      },
      "execution_count": 16,
      "outputs": [
        {
          "output_type": "stream",
          "name": "stderr",
          "text": [
            "..E\n",
            "======================================================================\n",
            "ERROR: test_zero_length_or_width (__main__.TestRectangleAreaCalculation)\n",
            "----------------------------------------------------------------------\n",
            "Traceback (most recent call last):\n",
            "  File \"<ipython-input-16-0af5fab1e448>\", line 33, in test_zero_length_or_width\n",
            "    calculated_area = calculate_rectangle_area(length, width)\n",
            "  File \"<ipython-input-16-0af5fab1e448>\", line 15, in calculate_rectangle_area\n",
            "    raise ValueError(\"Length and Width must be positive numbers\")\n",
            "ValueError: Length and Width must be positive numbers\n",
            "\n",
            "----------------------------------------------------------------------\n",
            "Ran 3 tests in 0.013s\n",
            "\n",
            "FAILED (errors=1)\n"
          ]
        },
        {
          "output_type": "stream",
          "name": "stdout",
          "text": [
            "Test Negative Length or Width: Passed. Exception raised as expected.\n",
            "Test Valid Input: Passed. Calculated area: 20\n"
          ]
        }
      ]
    },
    {
      "cell_type": "code",
      "source": [
        "import unittest\n",
        "import sys\n",
        "from io import StringIO\n",
        "\n",
        "def calculate_rectangle_area(length, width):\n",
        "    \"\"\"\n",
        "    Calculate the area of a rectangle given its length and width.\n",
        "\n",
        "    Args:\n",
        "    - length (float): The length of the rectangle.\n",
        "    - width (float): The width of the rectangle.\n",
        "\n",
        "    Returns:\n",
        "    - float: The calculated area of the rectangle.\n",
        "    \"\"\"\n",
        "    if length <= 0 or width <= 0:\n",
        "        return 0\n",
        "    return length * width\n",
        "\n",
        "class TestRectangleAreaCalculation(unittest.TestCase):\n",
        "    def test_valid_input(self):\n",
        "        # Test Case 1: Valid Input\n",
        "        length = 5\n",
        "        width = 4\n",
        "        expected_area = 20\n",
        "        calculated_area = calculate_rectangle_area(length, width)\n",
        "        self.assertEqual(calculated_area, expected_area)\n",
        "        print(\"Test Valid Input: Passed. Calculated area:\", calculated_area)\n",
        "\n",
        "    def test_zero_length_or_width(self):\n",
        "        # Test Case 2: Zero Length or Width\n",
        "        length = 0\n",
        "        width = 8\n",
        "        expected_area = 0\n",
        "        calculated_area = calculate_rectangle_area(length, width)\n",
        "        self.assertEqual(calculated_area, expected_area)\n",
        "        print(\"Test Zero Length or Width: Passed. Calculated area:\", calculated_area)\n",
        "\n",
        "    def test_negative_length_or_width(self):\n",
        "        # Test Case 3: Negative Length or Width\n",
        "        length = -3\n",
        "        width = 6\n",
        "        with self.assertRaises(ValueError):\n",
        "            calculate_rectangle_area(length, width)\n",
        "        print(\"Test Negative Length or Width: Passed. Exception raised as expected.\")\n",
        "\n",
        "# Redirect stdout to a StringIO object\n",
        "stdout_backup = sys.stdout\n",
        "sys.stdout = StringIO()\n",
        "\n",
        "# Run the tests\n",
        "unittest.main(argv=[''], exit=False)\n",
        "\n",
        "# Get the output\n",
        "output = sys.stdout.getvalue().splitlines()\n",
        "\n",
        "# Restore stdout\n",
        "sys.stdout = stdout_backup\n",
        "\n",
        "# Print only the lines containing \"Passed\"\n",
        "for line in output:\n",
        "    if \"Passed\" in line:\n",
        "        print(line)\n"
      ],
      "metadata": {
        "colab": {
          "base_uri": "https://localhost:8080/"
        },
        "id": "WHTPDjeczG-a",
        "outputId": "90a7bd63-84e7-4d46-93a8-af51525024fe"
      },
      "execution_count": 27,
      "outputs": [
        {
          "output_type": "stream",
          "name": "stderr",
          "text": [
            "F..\n",
            "======================================================================\n",
            "FAIL: test_negative_length_or_width (__main__.TestRectangleAreaCalculation)\n",
            "----------------------------------------------------------------------\n",
            "Traceback (most recent call last):\n",
            "  File \"<ipython-input-27-97e8cde119f9>\", line 43, in test_negative_length_or_width\n",
            "    with self.assertRaises(ValueError):\n",
            "AssertionError: ValueError not raised\n",
            "\n",
            "----------------------------------------------------------------------\n",
            "Ran 3 tests in 0.009s\n",
            "\n",
            "FAILED (failures=1)\n"
          ]
        },
        {
          "output_type": "stream",
          "name": "stdout",
          "text": [
            "Test Valid Input: Passed. Calculated area: 20\n",
            "Test Zero Length or Width: Passed. Calculated area: 0\n"
          ]
        }
      ]
    },
    {
      "cell_type": "code",
      "source": [
        "import unittest\n",
        "\n",
        "def calculate_rectangle_area(length, width):\n",
        "    \"\"\"\n",
        "    Calculate the area of a rectangle given its length and width.\n",
        "\n",
        "    Args:\n",
        "    - length (float): The length of the rectangle.\n",
        "    - width (float): The width of the rectangle.\n",
        "\n",
        "    Returns:\n",
        "    - float: The calculated area of the rectangle.\n",
        "    \"\"\"\n",
        "    if length <= 0 or width <= 0:\n",
        "        return 0\n",
        "    return length * width\n",
        "\n",
        "class TestRectangleAreaCalculation(unittest.TestCase):\n",
        "    def test_valid_input(self):\n",
        "        # Test Case 1: Valid Input\n",
        "        length = 5\n",
        "        width = 4\n",
        "        expected_area = 20\n",
        "        calculated_area = calculate_rectangle_area(length, width)\n",
        "        self.assertEqual(calculated_area, expected_area)\n",
        "        print(\"Test Valid Input: Passed. Calculated area:\", calculated_area)\n",
        "\n",
        "    def test_zero_length_or_width(self):\n",
        "        # Test Case 2: Zero Length or Width\n",
        "        length = 0\n",
        "        width = 8\n",
        "        expected_area = 0\n",
        "        calculated_area = calculate_rectangle_area(length, width)\n",
        "        self.assertEqual(calculated_area, expected_area)\n",
        "        print(\"Test Zero Length or Width: Passed. Calculated area:\", calculated_area)\n",
        "\n",
        "    def test_negative_length_or_width(self):\n",
        "        # Test Case 3: Negative Length or Width\n",
        "        length = -3\n",
        "        width = 6\n",
        "        with self.assertRaises(ValueError):\n",
        "            calculate_rectangle_area(length, width)\n",
        "        print(\"Test Negative Length or Width: Passed. Exception raised as expected.\")\n",
        "\n",
        "def user_input():\n",
        "    length = float(input(\"Enter the length of the rectangle: \"))\n",
        "    width = float(input(\"Enter the width of the rectangle: \"))\n",
        "    return length, width\n",
        "\n",
        "# Get user input\n",
        "length, width = user_input()\n",
        "\n",
        "# Calculate and print the area\n",
        "area = calculate_rectangle_area(length, width)\n",
        "print(\"The area of the rectangle is:\", area)\n",
        "\n",
        "# Run the tests\n",
        "if __name__ == '__main__':\n",
        "    unittest.main(argv=[''], exit=False)\n"
      ],
      "metadata": {
        "colab": {
          "base_uri": "https://localhost:8080/"
        },
        "id": "MbghY5142XPF",
        "outputId": "9c42c284-6723-4365-f0c9-6e69d4a47ace"
      },
      "execution_count": 22,
      "outputs": [
        {
          "name": "stdout",
          "output_type": "stream",
          "text": [
            "Enter the length of the rectangle: 3\n",
            "Enter the width of the rectangle: 4\n"
          ]
        },
        {
          "output_type": "stream",
          "name": "stderr",
          "text": [
            "F..\n",
            "======================================================================\n",
            "FAIL: test_negative_length_or_width (__main__.TestRectangleAreaCalculation)\n",
            "----------------------------------------------------------------------\n",
            "Traceback (most recent call last):\n",
            "  File \"<ipython-input-22-7e34790bd457>\", line 41, in test_negative_length_or_width\n",
            "    with self.assertRaises(ValueError):\n",
            "AssertionError: ValueError not raised\n",
            "\n",
            "----------------------------------------------------------------------\n",
            "Ran 3 tests in 0.009s\n",
            "\n",
            "FAILED (failures=1)\n"
          ]
        },
        {
          "output_type": "stream",
          "name": "stdout",
          "text": [
            "The area of the rectangle is: 12.0\n",
            "Test Valid Input: Passed. Calculated area: 20\n",
            "Test Zero Length or Width: Passed. Calculated area: 0\n"
          ]
        }
      ]
    }
  ]
}